{
 "cells": [
  {
   "cell_type": "code",
   "execution_count": null,
   "metadata": {
    "editable": true
   },
   "outputs": [],
   "source": [
    "# experiment with loading log files into work table"
   ]
  },
  {
   "cell_type": "code",
   "execution_count": 2,
   "metadata": {
    "editable": true
   },
   "outputs": [],
   "source": [
    "def get_files(filepath):\n",
    "    all_files = []\n",
    "    for root, dirs, files in os.walk(filepath):\n",
    "        files = glob.glob(os.path.join(root,'*.json'))\n",
    "        for f in files :\n",
    "            all_files.append(os.path.abspath(f))\n",
    "    \n",
    "    return all_files"
   ]
  },
  {
   "cell_type": "code",
   "execution_count": 3,
   "metadata": {
    "editable": true
   },
   "outputs": [],
   "source": [
    "log_table_create = (\"\"\"\n",
    "CREATE TABLE IF NOT EXISTS log_work(\n",
    "    log_id SERIAL PRIMARY KEY,\n",
    "    artist varchar,\n",
    "    auth varchar,\n",
    "    firstName varchar,\n",
    "    gender varchar,\n",
    "    itemInSession int,\n",
    "    lastName varchar,\n",
    "    length numeric,\n",
    "    level varchar,\n",
    "    location varchar,\n",
    "    method varchar,\n",
    "    page varchar,\n",
    "    registration varchar,\n",
    "    sessionId varchar,\n",
    "    song varchar,\n",
    "    status varchar,\n",
    "    ts bigint,\n",
    "    userAgent varchar,\n",
    "    userId varchar)\n",
    "\"\"\")\n",
    "\n",
    "log_table_drop = \"DROP TABLE IF EXISTS log_work\""
   ]
  },
  {
   "cell_type": "code",
   "execution_count": 4,
   "metadata": {
    "editable": true
   },
   "outputs": [],
   "source": [
    "log_fields = [  \n",
    "    'artist', #varchar\n",
    "    'auth', #varchar\n",
    "    'firstName', #varchar\n",
    "    'gender', #varchar\n",
    "    'itemInSession', #int\n",
    "    'lastName', #varchar\n",
    "    'length', #numeric\n",
    "    'level', #varchar\n",
    "    'location', #varchar\n",
    "    'method', #varchar\n",
    "    'page', #varchar\n",
    "    'registration', #varchar\n",
    "    'sessionId', #int\n",
    "    'song', #varchar\n",
    "    'status', #varchar\n",
    "    'ts', #bigint\n",
    "    'userAgent', #varchar\n",
    "    'userId' #int\n",
    "]\n",
    "\n",
    "log_insert = \"INSERT INTO log_work VALUES (DEFAULT, %s, %s, %s, %s, %s, %s, %s, %s, %s, %s, %s, %s, %s, %s, %s, %s, %s, %s)\""
   ]
  },
  {
   "cell_type": "code",
   "execution_count": 5,
   "metadata": {
    "editable": true
   },
   "outputs": [],
   "source": [
    "song_table_create = (\"\"\"\n",
    "CREATE TABLE IF NOT EXISTS song_work(\n",
    "    num_songs int,\n",
    "    artist_id varchar, \n",
    "    artist_latitude varchar, \n",
    "    artist_longitude varchar,\n",
    "    artist_location varchar,\n",
    "    artist_name varchar,\n",
    "    song_id varchar, \n",
    "    title varchar,\n",
    "    duration numeric, \n",
    "    year int\n",
    ")\n",
    "\"\"\")\n",
    "\n",
    "song_table_drop = \"DROP TABLE IF EXISTS song_work\""
   ]
  },
  {
   "cell_type": "code",
   "execution_count": 6,
   "metadata": {
    "editable": true
   },
   "outputs": [],
   "source": [
    "song_fields = [  \n",
    "    'num_songs', #int,\n",
    "    'artist_id', #varchar, \n",
    "    'artist_latitude', #varchar, \n",
    "    'artist_longitude', #varchar,\n",
    "    'artist_location', #varchar,\n",
    "    'artist_name', #varchar,\n",
    "    'song_id', #varchar, \n",
    "    'title', #varchar,\n",
    "    'duration', #numeric, \n",
    "    'year', #int\n",
    "]\n",
    "\n",
    "song_insert = \"INSERT INTO song_work VALUES (%s, %s, %s, %s, %s, %s, %s, %s, %s, %s)\""
   ]
  },
  {
   "cell_type": "code",
   "execution_count": 7,
   "metadata": {
    "editable": true
   },
   "outputs": [],
   "source": [
    "# connect to default database\n",
    "conn = psycopg2.connect(\"host=127.0.0.1 dbname=studentdb user=student password=student\")\n",
    "conn.set_session(autocommit=True)\n",
    "cur = conn.cursor()\n",
    "\n",
    "# create sparkify database with UTF8 encoding\n",
    "cur.execute(\"DROP DATABASE IF EXISTS troubleshootdb\")\n",
    "cur.execute(\"CREATE DATABASE troubleshootdb WITH ENCODING 'utf8' TEMPLATE template0\")\n",
    "\n",
    "# close connection to default database\n",
    "conn.close()    \n",
    "\n",
    "# connect to sparkify database\n",
    "conn = psycopg2.connect(\"host=127.0.0.1 dbname=troubleshootdb user=student password=student\")\n",
    "cur = conn.cursor()"
   ]
  },
  {
   "cell_type": "code",
   "execution_count": 8,
   "metadata": {
    "editable": true
   },
   "outputs": [],
   "source": [
    "cur.execute(log_table_drop)\n",
    "conn.commit()\n",
    "\n",
    "cur.execute(log_table_create)\n",
    "conn.commit()\n",
    "\n",
    "cur.execute(song_table_drop)\n",
    "conn.commit()\n",
    "\n",
    "cur.execute(song_table_create)\n",
    "conn.commit()"
   ]
  },
  {
   "cell_type": "code",
   "execution_count": 9,
   "metadata": {
    "editable": true
   },
   "outputs": [],
   "source": [
    "log_files = get_files(\"data/log_data\")\n",
    "#print(log_files)"
   ]
  },
  {
   "cell_type": "code",
   "execution_count": 10,
   "metadata": {
    "editable": true
   },
   "outputs": [],
   "source": [
    "# load log files\n",
    "for filepath in log_files:\n",
    "    log_data = []\n",
    "    with open(filepath) as f:\n",
    "        for line in f:\n",
    "            log_data.append(json.loads(line))\n",
    "\n",
    "    for item in log_data:\n",
    "        if item['page'] != 'NextSong': continue\n",
    "        log_rec = [item[field] for field in log_fields]\n",
    "        #print(log_rec)\n",
    "        cur.execute(log_insert, log_rec)\n",
    " \n",
    "    conn.commit()"
   ]
  },
  {
   "cell_type": "code",
   "execution_count": 11,
   "metadata": {
    "editable": true
   },
   "outputs": [],
   "source": [
    "song_files = get_files(\"data/song_data\")\n",
    "#print(song_files)"
   ]
  },
  {
   "cell_type": "code",
   "execution_count": 12,
   "metadata": {
    "editable": true
   },
   "outputs": [],
   "source": [
    "# load song files\n",
    "for filepath in song_files:\n",
    "    song_data = []\n",
    "    with open(filepath) as f:\n",
    "        for line in f:\n",
    "            song_data.append(json.loads(line))\n",
    "\n",
    "    for item in song_data:\n",
    "        song_rec = [item[field] for field in song_fields]\n",
    "        #print(song_rec)\n",
    "        cur.execute(song_insert, song_rec)\n",
    " \n",
    "    conn.commit()"
   ]
  },
  {
   "cell_type": "code",
   "execution_count": 13,
   "metadata": {
    "editable": true
   },
   "outputs": [
    {
     "name": "stdout",
     "output_type": "stream",
     "text": [
      "Number of song records: 77\n"
     ]
    }
   ],
   "source": [
    "cur.execute(\"SELECT COUNT(*) FROM song_work\")\n",
    "count = cur.fetchone()\n",
    "print('Number of song records:', count[0])"
   ]
  },
  {
   "cell_type": "code",
   "execution_count": 14,
   "metadata": {
    "editable": true
   },
   "outputs": [
    {
     "name": "stdout",
     "output_type": "stream",
     "text": [
      "Number of log records: 6981\n"
     ]
    }
   ],
   "source": [
    "cur.execute(\"SELECT COUNT(*) FROM log_work\")\n",
    "count = cur.fetchone()\n",
    "print('Number of log records:', count[0])"
   ]
  },
  {
   "cell_type": "code",
   "execution_count": 15,
   "metadata": {
    "editable": true
   },
   "outputs": [
    {
     "name": "stdout",
     "output_type": "stream",
     "text": [
      "Number of song records matched from log records: 1\n"
     ]
    }
   ],
   "source": [
    "match_query = \"\"\"\n",
    "SELECT COUNT(*) \n",
    "  FROM \n",
    "  (SELECT artist, song, length \n",
    "     FROM log_work where (artist, song, length) IN (SELECT artist_name, title, duration \n",
    "                                                      FROM song_work)) AS foo;\n",
    "\"\"\"\n",
    "cur.execute(match_query)\n",
    "count = cur.fetchone()\n",
    "print('Number of song records matched from log records:', count[0])"
   ]
  },
  {
   "cell_type": "code",
   "execution_count": 16,
   "metadata": {
    "editable": true
   },
   "outputs": [
    {
     "name": "stdout",
     "output_type": "stream",
     "text": [
      "Matched row: (3225, 'Elena', 'Logged In', 'Lily', 'F', 5, 'Koch', Decimal('269.58322'), 'paid', 'Chicago-Naperville-Elgin, IL-IN-WI', 'PUT', 'NextSong', '1541048010796.0', '818', 'Setanta matins', '200', 1542837407796, '\"Mozilla/5.0 (X11; Linux x86_64) AppleWebKit/537.36 (KHTML, like Gecko) Ubuntu Chromium/36.0.1985.125 Chrome/36.0.1985.125 Safari/537.36\"', '15')\n"
     ]
    }
   ],
   "source": [
    "match_query = \"\"\"\n",
    "SELECT *\n",
    "  FROM log_work WHERE (artist, song, length) IN (SELECT artist_name, title, duration \n",
    "                                                   FROM song_work);\n",
    "\"\"\"\n",
    "cur.execute(match_query)\n",
    "result = cur.fetchone()\n",
    "\n",
    "print('Matched row:', result)"
   ]
  },
  {
   "cell_type": "code",
   "execution_count": 17,
   "metadata": {
    "editable": true
   },
   "outputs": [],
   "source": [
    "cur.close()"
   ]
  },
  {
   "cell_type": "code",
   "execution_count": 18,
   "metadata": {
    "editable": true
   },
   "outputs": [],
   "source": [
    "conn.close()"
   ]
  },
  {
   "cell_type": "code",
   "execution_count": null,
   "metadata": {
    "editable": true
   },
   "outputs": [],
   "source": []
  }
 ],
 "metadata": {
  "kernelspec": {
   "display_name": "Python 3",
   "language": "python",
   "name": "python3"
  },
  "language_info": {
   "codemirror_mode": {
    "name": "ipython",
    "version": 3
   },
   "file_extension": ".py",
   "mimetype": "text/x-python",
   "name": "python",
   "nbconvert_exporter": "python",
   "pygments_lexer": "ipython3",
   "version": "3.6.3"
  }
 },
 "nbformat": 4,
 "nbformat_minor": 4
}
